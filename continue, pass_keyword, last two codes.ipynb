{
 "cells": [
  {
   "cell_type": "code",
   "execution_count": 2,
   "id": "5ad1ffd6",
   "metadata": {},
   "outputs": [
    {
     "name": "stdout",
     "output_type": "stream",
     "text": [
      "1,2,3,4,5,6,7,8,9,10,12,13,14,15,16,17,18,19,"
     ]
    }
   ],
   "source": [
    "for index in range(1,20):\n",
    "    if index==11: \n",
    "         continue\n",
    "    else:\n",
    "         print(index, end=\",\")"
   ]
  },
  {
   "cell_type": "code",
   "execution_count": 3,
   "id": "e97e3dcd",
   "metadata": {},
   "outputs": [
    {
     "name": "stdout",
     "output_type": "stream",
     "text": [
      "1,2,3,4,6,7,8,9,11,12,13,14,16,17,18,19,"
     ]
    }
   ],
   "source": [
    "#same as above\n",
    "for index in range(1,20):\n",
    "    if index%5==0:\n",
    "         continue\n",
    "    else:\n",
    "         print(index, end=\",\")"
   ]
  },
  {
   "cell_type": "code",
   "execution_count": 7,
   "id": "2f275159",
   "metadata": {},
   "outputs": [
    {
     "name": "stdout",
     "output_type": "stream",
     "text": [
      "1,2,3,4,6,7,8,9,11,12,13,14,16,17,18,19,"
     ]
    }
   ],
   "source": [
    "for index in range(1,20):\n",
    "    if index%5==0:\n",
    "         pass\n",
    "    else:\n",
    "         print(index, end=\",\")"
   ]
  },
  {
   "cell_type": "code",
   "execution_count": 16,
   "id": "96a13425",
   "metadata": {},
   "outputs": [
    {
     "name": "stdout",
     "output_type": "stream",
     "text": [
      "Give Range:2\n",
      "1 :is Odd\n"
     ]
    }
   ],
   "source": [
    "user_in=int(input(\"Give Range:\"))\n",
    "\n",
    "for index in range(1,user_in+1):\n",
    "    if index%2==0:\n",
    "        continue  #throws control flow to the start of loop, i.e else will not be evaluated\n",
    "    else:\n",
    "        print(str(index) +\" :is Odd\")\n",
    "    "
   ]
  },
  {
   "cell_type": "code",
   "execution_count": 17,
   "id": "ad9266ac",
   "metadata": {},
   "outputs": [
    {
     "name": "stdout",
     "output_type": "stream",
     "text": [
      "Give Range:12\n",
      "1 :is Odd\n",
      "3 :is Odd\n",
      "5 :is Odd\n",
      "7 :is Odd\n",
      "9 :is Odd\n",
      "11 :is Odd\n"
     ]
    }
   ],
   "source": [
    "user_in=int(input(\"Give Range:\"))\n",
    "\n",
    "for index in range(1,user_in+1):\n",
    "    if index%2==0:\n",
    "        pass    #lets control flow to simply pass through, i.e else WILL be evaluated\n",
    "    else:\n",
    "        print(str(index) +\" :is Odd\")\n",
    "    "
   ]
  },
  {
   "cell_type": "code",
   "execution_count": 29,
   "id": "33560856",
   "metadata": {},
   "outputs": [
    {
     "name": "stdout",
     "output_type": "stream",
     "text": [
      "Give Range:5\n",
      "1 :is Odd\n",
      "2 :is Even\n",
      "3 :is Odd\n",
      "4 :is Even\n",
      "5 :is Odd\n"
     ]
    }
   ],
   "source": [
    "user_in=int(input(\"Give Range:\"))\n",
    "\n",
    "for index in range(1,user_in+1):\n",
    "    if index%2==0:\n",
    "        pass    #lets control flow to simply pass through, i.e rest following code WILL be evaluated\n",
    "                #its like nothing is here\n",
    "        print(str(index) +\" :is Even\")\n",
    "    else:\n",
    "        print(str(index) +\" :is Odd\")"
   ]
  },
  {
   "cell_type": "code",
   "execution_count": 28,
   "id": "25bfa92c",
   "metadata": {},
   "outputs": [
    {
     "name": "stdout",
     "output_type": "stream",
     "text": [
      "Give Range:5\n",
      "1 :is Odd\n",
      "2 :is Even\n",
      "3 :is Odd\n",
      "4 :is Even\n",
      "5 :is Odd\n"
     ]
    }
   ],
   "source": [
    "user_in=int(input(\"Give Range:\"))\n",
    "\n",
    "for index in range(1,user_in+1):\n",
    "    if index%2==0:\n",
    "       # continue    #lets control flow to go to startof the loop\n",
    "                    #And does ot allow print Even to executed\n",
    "        print(str(index) +\" :is Even\")\n",
    "    else:\n",
    "        print(str(index) +\" :is Odd\")"
   ]
  },
  {
   "cell_type": "code",
   "execution_count": null,
   "id": "d9ba0122",
   "metadata": {},
   "outputs": [],
   "source": []
  }
 ],
 "metadata": {
  "kernelspec": {
   "display_name": "Python 3 (ipykernel)",
   "language": "python",
   "name": "python3"
  },
  "language_info": {
   "codemirror_mode": {
    "name": "ipython",
    "version": 3
   },
   "file_extension": ".py",
   "mimetype": "text/x-python",
   "name": "python",
   "nbconvert_exporter": "python",
   "pygments_lexer": "ipython3",
   "version": "3.9.7"
  }
 },
 "nbformat": 4,
 "nbformat_minor": 5
}
